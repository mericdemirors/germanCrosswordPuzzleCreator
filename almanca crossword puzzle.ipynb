{
 "cells": [
  {
   "cell_type": "code",
   "execution_count": 11,
   "metadata": {},
   "outputs": [],
   "source": [
    "import cv2 as cv\n",
    "from datetime import datetime\n",
    "from PIL import ImageGrab\n",
    "import time\n",
    "import os"
   ]
  },
  {
   "cell_type": "code",
   "execution_count": null,
   "metadata": {},
   "outputs": [],
   "source": [
    "\n",
    "a = cv.imread(\"./p/screenshot_1696770357.png\")\n",
    "cv.namedWindow(\"a\", cv.WINDOW_NORMAL)\n",
    "cv.imshow(\"a\", a[170:1050, 170:1250])\n",
    "cv.waitKey(0)\n",
    "cv.destroyAllWindows()\n"
   ]
  },
  {
   "cell_type": "code",
   "execution_count": 13,
   "metadata": {},
   "outputs": [],
   "source": [
    "def take_screenshot_and_save(folder):\n",
    "    screenshot = ImageGrab.grab()\n",
    "    screenshot.save(os.path.join(folder, f\"screenshot_{int(time.time())}.png\"))"
   ]
  },
  {
   "cell_type": "code",
   "execution_count": 21,
   "metadata": {},
   "outputs": [],
   "source": [
    "def take_screenshot_and_save_region(folder):\n",
    "    screenshot = ImageGrab.grab()\n",
    "    cropped_region = screenshot.crop((170, 1050, 170, 1250))\n",
    "    cropped_region.save(os.path.join(folder, f\"screenshot_{int(time.time())}.png\"))"
   ]
  },
  {
   "cell_type": "code",
   "execution_count": 14,
   "metadata": {},
   "outputs": [],
   "source": [
    "def click_at_coordinates(x, y):\n",
    "    pyautogui.click(x, y)"
   ]
  },
  {
   "cell_type": "code",
   "execution_count": null,
   "metadata": {},
   "outputs": [],
   "source": [
    "time.sleep(2)\n",
    "\n",
    "take_screenshot_and_save_region(\"p\")\n",
    "click_at_coordinates(425, 260)\n",
    "time.sleep(0.1)\n",
    "take_screenshot_and_save_region(\"s\")\n",
    "click_at_coordinates(520 ,255)\n",
    "time.sleep(0.1)"
   ]
  },
  {
   "cell_type": "code",
   "execution_count": null,
   "metadata": {},
   "outputs": [],
   "source": []
  },
  {
   "cell_type": "code",
   "execution_count": null,
   "metadata": {},
   "outputs": [],
   "source": []
  },
  {
   "cell_type": "code",
   "execution_count": null,
   "metadata": {},
   "outputs": [],
   "source": []
  },
  {
   "cell_type": "code",
   "execution_count": 24,
   "metadata": {},
   "outputs": [],
   "source": [
    "from datetime import datetime\n",
    "from PIL import ImageGrab\n",
    "import pyautogui\n",
    "import time\n",
    "import os\n",
    "from reportlab.lib.pagesizes import letter\n",
    "from reportlab.pdfgen import canvas"
   ]
  },
  {
   "cell_type": "code",
   "execution_count": null,
   "metadata": {},
   "outputs": [],
   "source": [
    "# https://www.surfacelanguages.com/language/German/crosswords/germancrossword.html"
   ]
  },
  {
   "cell_type": "code",
   "execution_count": 25,
   "metadata": {},
   "outputs": [],
   "source": [
    "def create_puzzle(num_of_pages):\n",
    "    # Create folders if they don't exist\n",
    "    if not os.path.exists(\"p\"):\n",
    "        os.makedirs(\"p\")\n",
    "    if not os.path.exists(\"s\"):\n",
    "        os.makedirs(\"s\")\n",
    "\n",
    "    def get_ss(folder_name, i):\n",
    "        screenshot = ImageGrab.grab(bbox=(170, 170, 1250, 1050))\n",
    "        filename = folder_name + \"/\" + str(i) + \".png\"\n",
    "        screenshot.save(filename)\n",
    "\n",
    "    time.sleep(2)\n",
    "    for i in range(num_of_pages):\n",
    "        get_ss(\"p\", i)\n",
    "        pyautogui.click(425, 260)\n",
    "        time.sleep(0.15)\n",
    "        get_ss(\"s\", i)\n",
    "        pyautogui.click(520 ,255)\n",
    "        time.sleep(0.15)\n",
    "\n",
    "    # Output PDF file path\n",
    "    output_pdf_path = \"./puzzles.pdf\"\n",
    "\n",
    "    # Create a PDF document\n",
    "    c = canvas.Canvas(output_pdf_path, pagesize=letter)\n",
    "\n",
    "    puzzle_paths = [\"p/\" + x for x in sorted(os.listdir(\"./p/\"))]\n",
    "    solution_paths = [\"s/\" + x for x in sorted(os.listdir(\"./s/\"))]\n",
    "\n",
    "    for p_img, s_img in zip(puzzle_paths, solution_paths):\n",
    "        # Define the width and height of the page (adjust as needed)\n",
    "        width, height = letter\n",
    "        # Add the image to the PDF page, maintaining the aspect ratio\n",
    "        c.drawImage(p_img, 0, 0, width, height, preserveAspectRatio=True)\n",
    "        c.showPage()\n",
    "        c.drawImage(s_img, 0, 0, width, height, preserveAspectRatio=True)\n",
    "        c.showPage()\n",
    "        \n",
    "    c.save()\n",
    "    print(f'PDF saved as \"{output_pdf_path}\"')"
   ]
  },
  {
   "cell_type": "code",
   "execution_count": 26,
   "metadata": {},
   "outputs": [
    {
     "name": "stdout",
     "output_type": "stream",
     "text": [
      "PDF saved as \"./puzzles.pdf\"\n"
     ]
    }
   ],
   "source": [
    "create_puzzle(100)"
   ]
  },
  {
   "cell_type": "code",
   "execution_count": null,
   "metadata": {},
   "outputs": [],
   "source": []
  }
 ],
 "metadata": {
  "kernelspec": {
   "display_name": "Python 3.10.6 64-bit",
   "language": "python",
   "name": "python3"
  },
  "language_info": {
   "codemirror_mode": {
    "name": "ipython",
    "version": 3
   },
   "file_extension": ".py",
   "mimetype": "text/x-python",
   "name": "python",
   "nbconvert_exporter": "python",
   "pygments_lexer": "ipython3",
   "version": "3.9.13"
  },
  "orig_nbformat": 4,
  "vscode": {
   "interpreter": {
    "hash": "916dbcbb3f70747c44a77c7bcd40155683ae19c65e1c03b4aa3499c5328201f1"
   }
  }
 },
 "nbformat": 4,
 "nbformat_minor": 2
}
